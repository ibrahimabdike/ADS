{
  "nbformat": 4,
  "nbformat_minor": 0,
  "metadata": {
    "colab": {
      "provenance": [],
      "collapsed_sections": [
        "jD-9Sma-ruMm",
        "1KGAN1h-rhUT",
        "6mfDGqy38176",
        "BDggmS7ur3Wg",
        "Am56-sCnr6vi",
        "5enr7YOCsGiO",
        "czwZIoMP8yq2",
        "UVhxQgFF8KI_",
        "vRf4lpd38TE8",
        "dbS8kM4M8Vga",
        "DJeVFrBtw_kA",
        "wp_BS7DmxDcu",
        "aFlF1bDQxHQO",
        "_Czt2xj3xKtQ",
        "apQZLg4WxQaT",
        "5Kk6d63OxVQo",
        "figZW-P0xWHu",
        "QhEXtwvIxZhP",
        "prYpRrXsxbRX",
        "AZaNOe10xhBd",
        "KoqcSYwQxtRK",
        "b93FPbs0xuLv",
        "oPUu3IMexvkM",
        "TsVuSiuK9vLo",
        "AX1eFoHBxioZ",
        "xN0KYDlrxjzF",
        "LWRbnoj5xlT9",
        "qOcy-X35HV_t",
        "HX5OKWTeH3y7",
        "V3vakOO6H9Vh",
        "RMTv6MI1IIT_",
        "HHygJvHMIPgh",
        "EqUWEUsNINyj",
        "ExGMoK-pIb8p",
        "ZfjZLNgMIeYh",
        "GjfFmzfjIfZO",
        "dqhVm_8kN2tl",
        "VtTVm3cvN_lP",
        "qIxhQwTHOIjm",
        "JdKpybEFOJOM",
        "XJoETlR_OKHt",
        "8w3U0HVEOccy",
        "hDZ9eDtmOgLi",
        "SxIaU06sOuYQ",
        "GuR57OHgOBnM",
        "eaq4UrFLONmb",
        "bSurXHq_OOjc",
        "hnyRRASVOPq4",
        "okwTjEZ_PCiN",
        "80kHsk0gQiX5",
        "r6CjXb92QsKs",
        "_We_Aif3Q_n5",
        "sVrIv1ucRAtY",
        "xaLN8jeYRDll",
        "dGKEWiBwTVFM",
        "WnXWTn9WTaJs",
        "96-FMInjQs5S",
        "z9M2LwKAQvN_",
        "fnRxw0qjQ1aZ",
        "HA99lKmhQ68W",
        "z7mA-mghTmOc",
        "qcpLR3a_XPLd",
        "EnaCUxpRXT0J",
        "ZX5LhYDuXV2O",
        "7vliBrC5Xk65",
        "0xG8q15EXnW_",
        "2gYk4uIZYFKf",
        "7vPUGzblYGj1",
        "IhBdAGNeXa9N",
        "kBHUUpINXev4",
        "Xk2YcqtKXgiL",
        "hdEWP1SNnFHp",
        "_TGroESwnRos",
        "TbJ6OFKqnUTy",
        "HxuW_VVCnVgw",
        "8LarnuTTnalz",
        "VSxz3OK9nb4P",
        "_xf8ei3mnc3-",
        "C4tY9xM-n6jP",
        "qxG8RHFnniJT",
        "dQlkT13Gnjid",
        "6Pdl8p-QnmN1",
        "93yfMyQWnovw",
        "6T7Z10zUnquf",
        "l4aSf1SQnsIc",
        "wW6zZPzHpPkw",
        "Tj7-43EzpXKP",
        "9CbPFikcpb65",
        "8TToTfDxpcsC",
        "O0n2jmlupeUe",
        "uBJfTBcDpooj",
        "xVpVBXPkprnS",
        "05xi5W5kpsYM",
        "wtPFkTZCptbR",
        "lY-G45bwqiq8",
        "pZnqvIFlqrcF",
        "iO82jGS5qwik",
        "iU4HK7hrqiMO",
        "UoUvopuiqz1A",
        "_BlOlAaNq4Aj",
        "yDuSe7aAq56q",
        "m4u98nWIq76h",
        "rYrnAuYBryYC",
        "WOi0gv2Dr83t",
        "GgSYzCUYsCWG",
        "-bAG0iH2sDiV",
        "47gh_27esFHZ",
        "m1FOyDx-r_C_",
        "PgsptduxsKGg",
        "88bM7tZ2sLI4",
        "E_kcos-EsMTo",
        "jpvE6cqosOFe"
      ],
      "toc_visible": true
    },
    "kernelspec": {
      "name": "python3",
      "display_name": "Python 3"
    }
  },
  "cells": [
    {
      "cell_type": "markdown",
      "metadata": {
        "id": "jD-9Sma-ruMm"
      },
      "source": [
        "# 1. Comments, Variables and Printing\n"
      ]
    },
    {
      "cell_type": "markdown",
      "metadata": {
        "id": "1KGAN1h-rhUT"
      },
      "source": [
        "## 1. Comments"
      ]
    },
    {
      "cell_type": "markdown",
      "metadata": {
        "id": "6mfDGqy38176"
      },
      "source": [
        "#### <font color=\"blue\">Examples</font>"
      ]
    },
    {
      "cell_type": "markdown",
      "metadata": {
        "id": "BDggmS7ur3Wg"
      },
      "source": [
        "##### <font color=\"blue\">Example 1:</font> Single Line Comments"
      ]
    },
    {
      "cell_type": "code",
      "metadata": {
        "id": "Chy3pmP9r9Ch"
      },
      "source": [
        "# This is a single line comment. We use the hash character to indicate the following single line content are comments.\n",
        "score = 56"
      ],
      "execution_count": null,
      "outputs": []
    },
    {
      "cell_type": "code",
      "metadata": {
        "id": "fXqGSUr4iY_I"
      },
      "source": [
        "# my name is Jim\n",
        "name = \"Jim\""
      ],
      "execution_count": 2,
      "outputs": []
    },
    {
      "cell_type": "markdown",
      "metadata": {
        "id": "Am56-sCnr6vi"
      },
      "source": [
        "##### <font color=\"blue\">Example 2:</font> Multiple Line Comments - Method 1"
      ]
    },
    {
      "cell_type": "code",
      "metadata": {
        "id": "i4mALMPGr2Ad"
      },
      "source": [
        "'''\n",
        "This is a multiline comment.\n",
        "We use the delimiter characters to indicate that\n",
        "the following multi line content are comments.\n",
        "'''\n",
        "score = 53"
      ],
      "execution_count": null,
      "outputs": []
    },
    {
      "cell_type": "code",
      "metadata": {
        "id": "gCFk7qiSjJtT"
      },
      "source": [
        "'''\n",
        "this is a comment\n",
        "another comment\n",
        "\n",
        "'''\n"
      ],
      "execution_count": null,
      "outputs": []
    },
    {
      "cell_type": "markdown",
      "metadata": {
        "id": "5enr7YOCsGiO"
      },
      "source": [
        "##### <font color=\"blue\">Example 3:</font> Multiple Line Comments - Method 2"
      ]
    },
    {
      "cell_type": "code",
      "metadata": {
        "id": "jLWLFxn5sVnD"
      },
      "source": [
        "# ---\n",
        "# This is a multiline comment.\n",
        "# We can also use multiple hash characters to comment on\n",
        "# a block of content just as shown in this example.\n",
        "# We will be using this method of commenting to\n",
        "# provide more information about the exercises\n",
        "# and challenges within this course.\n",
        "# ---\n",
        "\n",
        "score = 53"
      ],
      "execution_count": null,
      "outputs": []
    },
    {
      "cell_type": "markdown",
      "metadata": {
        "id": "czwZIoMP8yq2"
      },
      "source": [
        "#### <font color=\"green\">Challenges</font>"
      ]
    },
    {
      "cell_type": "markdown",
      "metadata": {
        "id": "UVhxQgFF8KI_"
      },
      "source": [
        "##### <font color=\"green\">Challenge 1:</font> Explain the following code using a single line comment."
      ]
    },
    {
      "cell_type": "code",
      "metadata": {
        "id": "EXZ0jzkw8N3Z"
      },
      "source": [
        "# created variable tree that stores value 5\n",
        "\n",
        "tree = 5"
      ],
      "execution_count": null,
      "outputs": []
    },
    {
      "cell_type": "markdown",
      "metadata": {
        "id": "vRf4lpd38TE8"
      },
      "source": [
        "##### <font color=\"green\">Challenge 2:</font> Explain the following code using multiple line comments (using delimiters)"
      ]
    },
    {
      "cell_type": "code",
      "metadata": {
        "id": "C4eWE7xS8U9m"
      },
      "source": [
        "tree = 5 + 4"
      ],
      "execution_count": null,
      "outputs": []
    },
    {
      "cell_type": "markdown",
      "metadata": {
        "id": "dbS8kM4M8Vga"
      },
      "source": [
        "##### <font color=\"green\">Challenge 3: </font> Explain the following code using multiple line comments (Using Single line comments)"
      ]
    },
    {
      "cell_type": "code",
      "metadata": {
        "id": "Zefh_ZEV8Wzk"
      },
      "source": [
        "tree = 5 + 5"
      ],
      "execution_count": null,
      "outputs": []
    },
    {
      "cell_type": "markdown",
      "metadata": {
        "id": "DJeVFrBtw_kA"
      },
      "source": [
        "## 2. Variables"
      ]
    },
    {
      "cell_type": "markdown",
      "metadata": {
        "id": "wp_BS7DmxDcu"
      },
      "source": [
        "#### <font color=\"blue\">Examples</font>"
      ]
    },
    {
      "cell_type": "code",
      "metadata": {
        "id": "Xj1Vc3UhqKBS",
        "colab": {
          "base_uri": "https://localhost:8080/",
          "height": 34
        },
        "outputId": "eec231d4-ff32-4b73-904b-c380462121b1"
      },
      "source": [
        "5 * 20"
      ],
      "execution_count": null,
      "outputs": [
        {
          "output_type": "execute_result",
          "data": {
            "text/plain": [
              "100"
            ]
          },
          "metadata": {
            "tags": []
          },
          "execution_count": 4
        }
      ]
    },
    {
      "cell_type": "code",
      "metadata": {
        "id": "4MvbWfFmkE76"
      },
      "source": [
        "name = \"lina\"\n",
        "\n",
        "height = 1.5"
      ],
      "execution_count": null,
      "outputs": []
    },
    {
      "cell_type": "code",
      "metadata": {
        "id": "Z_2A5PkUkxCq",
        "colab": {
          "base_uri": "https://localhost:8080/",
          "height": 34
        },
        "outputId": "2398e5f8-999b-4f55-bdc5-756da97dbb59"
      },
      "source": [
        "height * 2"
      ],
      "execution_count": null,
      "outputs": [
        {
          "output_type": "execute_result",
          "data": {
            "text/plain": [
              "3.0"
            ]
          },
          "metadata": {
            "tags": []
          },
          "execution_count": 9
        }
      ]
    },
    {
      "cell_type": "code",
      "metadata": {
        "id": "OvvV_h2Ik0y9"
      },
      "source": [
        "height = 1.5"
      ],
      "execution_count": null,
      "outputs": []
    },
    {
      "cell_type": "code",
      "metadata": {
        "id": "VvPTBInWk3NP",
        "colab": {
          "base_uri": "https://localhost:8080/",
          "height": 34
        },
        "outputId": "26a381f4-e6ed-4067-e751-017feb8fb768"
      },
      "source": [
        "height"
      ],
      "execution_count": null,
      "outputs": [
        {
          "output_type": "execute_result",
          "data": {
            "text/plain": [
              "1.5"
            ]
          },
          "metadata": {
            "tags": []
          },
          "execution_count": 11
        }
      ]
    },
    {
      "cell_type": "code",
      "metadata": {
        "id": "N0BT8koDkeV4",
        "colab": {
          "base_uri": "https://localhost:8080/",
          "height": 34
        },
        "outputId": "375ff7c0-7e16-425a-c5af-51f7b5a1487e"
      },
      "source": [
        "height + 0.5"
      ],
      "execution_count": null,
      "outputs": [
        {
          "output_type": "execute_result",
          "data": {
            "text/plain": [
              "2.0"
            ]
          },
          "metadata": {
            "tags": []
          },
          "execution_count": 8
        }
      ]
    },
    {
      "cell_type": "code",
      "metadata": {
        "id": "nit37O1-kXNC",
        "colab": {
          "base_uri": "https://localhost:8080/",
          "height": 34
        },
        "outputId": "5323eacb-975f-46bd-fed7-dd14d9c76872"
      },
      "source": [
        "print(height)"
      ],
      "execution_count": null,
      "outputs": [
        {
          "output_type": "stream",
          "text": [
            "9\n"
          ],
          "name": "stdout"
        }
      ]
    },
    {
      "cell_type": "markdown",
      "metadata": {
        "id": "aFlF1bDQxHQO"
      },
      "source": [
        "##### <font color=\"blue\">Example 1</font>"
      ]
    },
    {
      "cell_type": "code",
      "metadata": {
        "id": "XPERUCVo5aTx",
        "colab": {
          "base_uri": "https://localhost:8080/",
          "height": 34
        },
        "outputId": "3406e813-3d96-4bc6-bed9-8d418dd7bc54"
      },
      "source": [
        "# Example 1\n",
        "# ---\n",
        "# Question: Assign the value 10 to the variable a.\n",
        "# ---\n",
        "# OUR CODE GOES BELOW\n",
        "#\n",
        "\n",
        "a = 10\n",
        "\n",
        "print(a)\n",
        "\n",
        "\n",
        "#name = \"Valentine\""
      ],
      "execution_count": null,
      "outputs": [
        {
          "output_type": "stream",
          "text": [
            "10\n"
          ],
          "name": "stdout"
        }
      ]
    },
    {
      "cell_type": "code",
      "metadata": {
        "id": "aIXimuWDlQg0",
        "colab": {
          "base_uri": "https://localhost:8080/",
          "height": 34
        },
        "outputId": "ccd5333f-0940-4bdd-928f-27960c25a777"
      },
      "source": [
        "print(name)"
      ],
      "execution_count": null,
      "outputs": [
        {
          "output_type": "stream",
          "text": [
            "lina\n"
          ],
          "name": "stdout"
        }
      ]
    },
    {
      "cell_type": "markdown",
      "metadata": {
        "id": "_Czt2xj3xKtQ"
      },
      "source": [
        "##### <font color=\"blue\">Example 2</font>"
      ]
    },
    {
      "cell_type": "code",
      "metadata": {
        "id": "u6IDQwRc5bWn"
      },
      "source": [
        "# Example 2\n",
        "# ---\n",
        "# Question: Assign the name Susan to the variable name.\n",
        "# ---\n",
        "# OUR CODE GOES BELOW\n",
        "#\n",
        "\n",
        "sister, brother = \"Susan\", \"Paul\""
      ],
      "execution_count": null,
      "outputs": []
    },
    {
      "cell_type": "code",
      "metadata": {
        "id": "tJIyeiaRmBNl"
      },
      "source": [
        "firstname, lastname = \"John\" , \"Matthews\""
      ],
      "execution_count": null,
      "outputs": []
    },
    {
      "cell_type": "code",
      "metadata": {
        "id": "I2j44pJ7mP-h",
        "colab": {
          "base_uri": "https://localhost:8080/",
          "height": 34
        },
        "outputId": "cc96ed66-38c7-40ef-ea83-be2160e63d4c"
      },
      "source": [
        "print(firstname)"
      ],
      "execution_count": null,
      "outputs": [
        {
          "output_type": "stream",
          "text": [
            "John\n"
          ],
          "name": "stdout"
        }
      ]
    },
    {
      "cell_type": "code",
      "metadata": {
        "id": "OshoHdlrlnAb",
        "colab": {
          "base_uri": "https://localhost:8080/",
          "height": 34
        },
        "outputId": "f32ebb54-8ed8-45aa-ef65-da66067fbb97"
      },
      "source": [
        "name = \"Susan\"\n",
        "print(name)"
      ],
      "execution_count": null,
      "outputs": [
        {
          "output_type": "stream",
          "text": [
            "Susan\n"
          ],
          "name": "stdout"
        }
      ]
    },
    {
      "cell_type": "code",
      "metadata": {
        "id": "Hbxxk46tlxQj"
      },
      "source": [
        "name = \"mary\""
      ],
      "execution_count": null,
      "outputs": []
    },
    {
      "cell_type": "code",
      "metadata": {
        "id": "JsOlPTDBl0g-",
        "colab": {
          "base_uri": "https://localhost:8080/",
          "height": 34
        },
        "outputId": "ce53e69b-9768-4c03-cf84-a42699d56311"
      },
      "source": [
        "print(name)"
      ],
      "execution_count": null,
      "outputs": [
        {
          "output_type": "stream",
          "text": [
            "mary\n"
          ],
          "name": "stdout"
        }
      ]
    },
    {
      "cell_type": "markdown",
      "metadata": {
        "id": "apQZLg4WxQaT"
      },
      "source": [
        "##### <font color=\"blue\">Example 3</font>"
      ]
    },
    {
      "cell_type": "code",
      "metadata": {
        "id": "pO96_Ivb5cHT"
      },
      "source": [
        "# Example 3\n",
        "# ---\n",
        "# Question: Assign the value [\"one\", 2, [\"three\"]] to the variable numbers\n",
        "# ---\n",
        "# OUR CODE GOES BELOW\n",
        "#\n",
        "\n",
        "numbers = [\"one\", 2, [\"three\"]]"
      ],
      "execution_count": null,
      "outputs": []
    },
    {
      "cell_type": "markdown",
      "metadata": {
        "id": "5Kk6d63OxVQo"
      },
      "source": [
        "#### <font color=\"green\">Challenges</font>"
      ]
    },
    {
      "cell_type": "markdown",
      "metadata": {
        "id": "figZW-P0xWHu"
      },
      "source": [
        "##### <font color=\"green\">Challenge 1</font>"
      ]
    },
    {
      "cell_type": "code",
      "metadata": {
        "id": "9mCpedG0xcfs"
      },
      "source": [
        "# Challenge 1\n",
        "# ---\n",
        "# Question: Assign the your last name to the variable last_name.\n",
        "# ---\n",
        "# YOUR CODE GOES BELOW\n",
        "#\n",
        "\n"
      ],
      "execution_count": null,
      "outputs": []
    },
    {
      "cell_type": "markdown",
      "metadata": {
        "id": "QhEXtwvIxZhP"
      },
      "source": [
        "##### <font color=\"green\">Challenge 2</font>"
      ]
    },
    {
      "cell_type": "code",
      "metadata": {
        "id": "SRG0iMPQxdHT"
      },
      "source": [
        "# Challenge 2\n",
        "# ---\n",
        "# Question: Assign your final highschool grade to the variable highschool_grade.\n",
        "# ---\n",
        "# YOUR CODE GOES BELOW\n",
        "#\n"
      ],
      "execution_count": null,
      "outputs": []
    },
    {
      "cell_type": "markdown",
      "metadata": {
        "id": "prYpRrXsxbRX"
      },
      "source": [
        "##### <font color=\"green\">Challenge 3</font>"
      ]
    },
    {
      "cell_type": "code",
      "metadata": {
        "id": "PZVa_y3axdzn"
      },
      "source": [
        "# Challenge 3\n",
        "# ---\n",
        "# Question: Assign the dictionary { \"brand\": \"Toyota\", \"model\": \"Wish\", \"year\": 2005 }\n",
        "# to the variable cars.\n",
        "# ---\n",
        "# YOUR CODE GOES BELOW\n",
        "#\n"
      ],
      "execution_count": null,
      "outputs": []
    },
    {
      "cell_type": "markdown",
      "metadata": {
        "id": "AZaNOe10xhBd"
      },
      "source": [
        "## 3. Printing"
      ]
    },
    {
      "cell_type": "markdown",
      "metadata": {
        "id": "KoqcSYwQxtRK"
      },
      "source": [
        "##### <font color=\"blue\">Example 1</font>"
      ]
    },
    {
      "cell_type": "code",
      "metadata": {
        "id": "ai3ZxHpcxw-J",
        "colab": {
          "base_uri": "https://localhost:8080/",
          "height": 34
        },
        "outputId": "a31e77ab-8cfc-460a-84b4-f4f6ecb0381b"
      },
      "source": [
        "# Example 1\n",
        "# ---\n",
        "# Question: Printing the text hello in our output console\n",
        "# ---\n",
        "# OUR CODE GOES BELOW\n",
        "#\n",
        "\n",
        "print(\"Hello\")"
      ],
      "execution_count": null,
      "outputs": [
        {
          "output_type": "stream",
          "text": [
            "Hello\n"
          ],
          "name": "stdout"
        }
      ]
    },
    {
      "cell_type": "code",
      "metadata": {
        "id": "z9S5u12wm0bB",
        "colab": {
          "base_uri": "https://localhost:8080/",
          "height": 34
        },
        "outputId": "2839115a-25c0-4e7e-b410-e93bf578ca38"
      },
      "source": [
        "print(5)"
      ],
      "execution_count": null,
      "outputs": [
        {
          "output_type": "stream",
          "text": [
            "5\n"
          ],
          "name": "stdout"
        }
      ]
    },
    {
      "cell_type": "markdown",
      "metadata": {
        "id": "b93FPbs0xuLv"
      },
      "source": [
        "##### <font color=\"blue\">Example 2</font>"
      ]
    },
    {
      "cell_type": "code",
      "metadata": {
        "id": "HM9ouOKxxxh1",
        "colab": {
          "base_uri": "https://localhost:8080/",
          "height": 34
        },
        "outputId": "30d6e203-d046-495f-ca83-f7192297d9a0"
      },
      "source": [
        "# Example 2\n",
        "# ---\n",
        "# Question: Printing the text Hello Valentine and putting a seperator.\n",
        "# ---\n",
        "# OUR CODE GOES BELOW\n",
        "#\n",
        "\n",
        "print(\"Hello\", \"Valentine!\", sep=\"-\")"
      ],
      "execution_count": null,
      "outputs": [
        {
          "output_type": "stream",
          "text": [
            "Hello-Valentine!\n"
          ],
          "name": "stdout"
        }
      ]
    },
    {
      "cell_type": "code",
      "metadata": {
        "id": "o1Kx7Njpnquq",
        "colab": {
          "base_uri": "https://localhost:8080/",
          "height": 34
        },
        "outputId": "9bd862be-5ff2-4168-9d81-ca393355424f"
      },
      "source": [
        "print(\"Hello man\")"
      ],
      "execution_count": null,
      "outputs": [
        {
          "output_type": "stream",
          "text": [
            "Hello man\n"
          ],
          "name": "stdout"
        }
      ]
    },
    {
      "cell_type": "code",
      "metadata": {
        "id": "2gLM8RaYnNjV"
      },
      "source": [
        "print(\"Hello\" , \"person\")"
      ],
      "execution_count": null,
      "outputs": []
    },
    {
      "cell_type": "markdown",
      "metadata": {
        "id": "oPUu3IMexvkM"
      },
      "source": [
        "##### <font color=\"blue\">Example 3</font>"
      ]
    },
    {
      "cell_type": "code",
      "metadata": {
        "id": "4f4aOFsExyJa",
        "colab": {
          "base_uri": "https://localhost:8080/",
          "height": 34
        },
        "outputId": "df51d15b-519a-4172-87c5-b6c78dd5bab9"
      },
      "source": [
        "# Example 3\n",
        "# ---\n",
        "# Question: Printing the following dictionary colors = {'red', 'green', 'blue'}\n",
        "# ---\n",
        "# OUR CODE GOES BELOW\n",
        "#\n",
        "\n",
        "colors = {'red', 'green', 'blue'}\n",
        "colors"
      ],
      "execution_count": null,
      "outputs": [
        {
          "output_type": "execute_result",
          "data": {
            "text/plain": [
              "{'blue', 'green', 'red'}"
            ]
          },
          "metadata": {
            "tags": []
          },
          "execution_count": 37
        }
      ]
    },
    {
      "cell_type": "code",
      "metadata": {
        "id": "ETt6floeoMRa",
        "colab": {
          "base_uri": "https://localhost:8080/",
          "height": 34
        },
        "outputId": "8542db9e-ad32-42d6-f4b6-19a5b234eb7f"
      },
      "source": [
        "colour_list = [\"blue\", \"yellow\", \"black\"]\n",
        "colour_list"
      ],
      "execution_count": null,
      "outputs": [
        {
          "output_type": "execute_result",
          "data": {
            "text/plain": [
              "['blue', 'yellow', 'black']"
            ]
          },
          "metadata": {
            "tags": []
          },
          "execution_count": 33
        }
      ]
    },
    {
      "cell_type": "code",
      "metadata": {
        "id": "jyhH42Yuoh-S",
        "colab": {
          "base_uri": "https://localhost:8080/",
          "height": 35
        },
        "outputId": "4af7f8a2-3b85-4a84-afb5-34aa620f77c0"
      },
      "source": [
        "colour_list[2]"
      ],
      "execution_count": null,
      "outputs": [
        {
          "output_type": "execute_result",
          "data": {
            "application/vnd.google.colaboratory.intrinsic": {
              "type": "string"
            },
            "text/plain": [
              "'black'"
            ]
          },
          "metadata": {
            "tags": []
          },
          "execution_count": 38
        }
      ]
    },
    {
      "cell_type": "code",
      "metadata": {
        "id": "-fCsZJUJooG_",
        "colab": {
          "base_uri": "https://localhost:8080/",
          "height": 35
        },
        "outputId": "ee604bc2-b5ca-4180-ac09-1887f3bd0d3d"
      },
      "source": [
        "colour_list[1]"
      ],
      "execution_count": null,
      "outputs": [
        {
          "output_type": "execute_result",
          "data": {
            "application/vnd.google.colaboratory.intrinsic": {
              "type": "string"
            },
            "text/plain": [
              "'yellow'"
            ]
          },
          "metadata": {
            "tags": []
          },
          "execution_count": 35
        }
      ]
    },
    {
      "cell_type": "markdown",
      "metadata": {
        "id": "TsVuSiuK9vLo"
      },
      "source": [
        "#### <font color=\"green\">Challenges</font>"
      ]
    },
    {
      "cell_type": "markdown",
      "metadata": {
        "id": "AX1eFoHBxioZ"
      },
      "source": [
        "##### <font color=\"green\">Challenge 1</font>"
      ]
    },
    {
      "cell_type": "code",
      "metadata": {
        "id": "h5d4FLXDxmd4",
        "colab": {
          "base_uri": "https://localhost:8080/",
          "height": 34
        },
        "outputId": "24aa7f2e-2703-4e40-8d29-784826609cec"
      },
      "source": [
        "# Challenge 1\n",
        "# ---\n",
        "# Question: Using the print function print out your last name\n",
        "# ---\n",
        "# YOUR CODE GOES BELOW\n",
        "#\n",
        "print(\"wanja\")"
      ],
      "execution_count": null,
      "outputs": [
        {
          "output_type": "stream",
          "text": [
            "wanja\n"
          ],
          "name": "stdout"
        }
      ]
    },
    {
      "cell_type": "markdown",
      "metadata": {
        "id": "xN0KYDlrxjzF"
      },
      "source": [
        "##### <font color=\"green\">Challenge 2</font>"
      ]
    },
    {
      "cell_type": "code",
      "metadata": {
        "id": "j3A29Of8xnEG"
      },
      "source": [
        "# Challenge 2\n",
        "# ---\n",
        "# Question: Print out the your full names below seperated by spaces\n",
        "# ---\n",
        "# YOUR CODE GOES BELOW\n",
        "#\n"
      ],
      "execution_count": null,
      "outputs": []
    },
    {
      "cell_type": "markdown",
      "metadata": {
        "id": "LWRbnoj5xlT9"
      },
      "source": [
        "##### <font color=\"green\">Challenge 3</font>"
      ]
    },
    {
      "cell_type": "code",
      "metadata": {
        "id": "6V99ewapxnjz"
      },
      "source": [
        "# Challenge 3\n",
        "# ---\n",
        "# Question: Store the values 400 and \"Employees\" in the variables x and y\n",
        "# then print out these two variables.\n",
        "# ---\n",
        "# YOUR CODE GOES BELOW\n",
        "#\n"
      ],
      "execution_count": null,
      "outputs": []
    },
    {
      "cell_type": "code",
      "metadata": {
        "id": "oaxLYLS_qPnf"
      },
      "source": [],
      "execution_count": null,
      "outputs": []
    },
    {
      "cell_type": "markdown",
      "metadata": {
        "id": "qOcy-X35HV_t"
      },
      "source": [
        "# 2. Arithmetic Operators"
      ]
    },
    {
      "cell_type": "markdown",
      "metadata": {
        "id": "HX5OKWTeH3y7"
      },
      "source": [
        "#### <font color=\"blue\">Examples</font>"
      ]
    },
    {
      "cell_type": "markdown",
      "metadata": {
        "id": "V3vakOO6H9Vh"
      },
      "source": [
        "##### <font color=\"blue\">Example 1"
      ]
    },
    {
      "cell_type": "code",
      "metadata": {
        "id": "LzONiSsfHAmy",
        "colab": {
          "base_uri": "https://localhost:8080/",
          "height": 34
        },
        "outputId": "bc4990f7-8913-40e1-b7b2-e83260eebfcd"
      },
      "source": [
        "# Example 1\n",
        "# ---\n",
        "# Let's perform an addition operation below\n",
        "# ---\n",
        "#\n",
        "\n",
        "# Declare our variables\n",
        "a = 20\n",
        "b = 16\n",
        "\n",
        "# Addition\n",
        "c = a - b\n",
        "\n",
        "# Printing out our results\n",
        "print(c)"
      ],
      "execution_count": null,
      "outputs": [
        {
          "output_type": "stream",
          "text": [
            "4\n"
          ],
          "name": "stdout"
        }
      ]
    },
    {
      "cell_type": "markdown",
      "metadata": {
        "id": "RMTv6MI1IIT_"
      },
      "source": [
        "##### <font color=\"blue\">Example 2"
      ]
    },
    {
      "cell_type": "code",
      "metadata": {
        "id": "JPCyGVKjICxP",
        "colab": {
          "base_uri": "https://localhost:8080/",
          "height": 34
        },
        "outputId": "9842f764-8308-44fa-91df-eeea98a7d7a3"
      },
      "source": [
        "# Example 2\n",
        "# ---\n",
        "# Performing a division operation\n",
        "# ---\n",
        "#\n",
        "d = a / b\n",
        "\n",
        "# Printing out our result\n",
        "print(d)"
      ],
      "execution_count": null,
      "outputs": [
        {
          "output_type": "stream",
          "text": [
            "1.25\n"
          ],
          "name": "stdout"
        }
      ]
    },
    {
      "cell_type": "code",
      "metadata": {
        "id": "2IDeuyLbrcya",
        "colab": {
          "base_uri": "https://localhost:8080/",
          "height": 34
        },
        "outputId": "df9e23b7-77a7-4299-8350-7a690720c67a"
      },
      "source": [
        "k = a * b\n",
        "\n",
        "print(k)"
      ],
      "execution_count": null,
      "outputs": [
        {
          "output_type": "stream",
          "text": [
            "320\n"
          ],
          "name": "stdout"
        }
      ]
    },
    {
      "cell_type": "code",
      "metadata": {
        "id": "Sv2OQUqHrnzZ"
      },
      "source": [
        "a =  5"
      ],
      "execution_count": null,
      "outputs": []
    },
    {
      "cell_type": "code",
      "metadata": {
        "id": "5wUCBNKtrt4p",
        "colab": {
          "base_uri": "https://localhost:8080/",
          "height": 34
        },
        "outputId": "36171354-8973-4842-bfac-ed38b2938ffb"
      },
      "source": [
        "a"
      ],
      "execution_count": null,
      "outputs": [
        {
          "output_type": "execute_result",
          "data": {
            "text/plain": [
              "5"
            ]
          },
          "metadata": {
            "tags": []
          },
          "execution_count": 45
        }
      ]
    },
    {
      "cell_type": "code",
      "metadata": {
        "id": "hYbgxJljrwdq",
        "colab": {
          "base_uri": "https://localhost:8080/",
          "height": 34
        },
        "outputId": "cb69758c-aa1b-41e5-80ba-bb28af963d10"
      },
      "source": [
        "a = a + 10\n",
        "print(a)"
      ],
      "execution_count": null,
      "outputs": [
        {
          "output_type": "stream",
          "text": [
            "15\n"
          ],
          "name": "stdout"
        }
      ]
    },
    {
      "cell_type": "code",
      "metadata": {
        "id": "v9Tyu-bAr-OV",
        "colab": {
          "base_uri": "https://localhost:8080/",
          "height": 34
        },
        "outputId": "58a2dcb2-ffa1-4884-966b-2d4b33da9167"
      },
      "source": [
        "a = 5\n",
        "\n",
        "a +=10\n",
        "\n",
        "print(a)"
      ],
      "execution_count": null,
      "outputs": [
        {
          "output_type": "stream",
          "text": [
            "15\n"
          ],
          "name": "stdout"
        }
      ]
    },
    {
      "cell_type": "markdown",
      "metadata": {
        "id": "HHygJvHMIPgh"
      },
      "source": [
        "##### <font color=\"blue\">Example 3"
      ]
    },
    {
      "cell_type": "code",
      "metadata": {
        "id": "FFONu-_VIO1k"
      },
      "source": [
        "# Example 3\n",
        "# ---\n",
        "# Using the increment operator to perform a = a + b\n",
        "# ---\n",
        "#\n",
        "\n",
        "# Using the increment operator\n",
        "a += b\n",
        "\n",
        "# Printing out our result\n",
        "print(a)"
      ],
      "execution_count": null,
      "outputs": []
    },
    {
      "cell_type": "markdown",
      "metadata": {
        "id": "EqUWEUsNINyj"
      },
      "source": [
        "#### <font color=\"green\">Challenges</font>"
      ]
    },
    {
      "cell_type": "markdown",
      "metadata": {
        "id": "ExGMoK-pIb8p"
      },
      "source": [
        "##### <font color=\"green\">Challenge 1</font>"
      ]
    },
    {
      "cell_type": "code",
      "metadata": {
        "id": "DnfLaMI-IhDi"
      },
      "source": [
        "# Challenge 1\n",
        "# ---\n",
        "# Question: Subtract b from a using the above declared variables\n",
        "# ---\n",
        "#\n",
        "OUR CODE GOES HERE"
      ],
      "execution_count": null,
      "outputs": []
    },
    {
      "cell_type": "markdown",
      "metadata": {
        "id": "ZfjZLNgMIeYh"
      },
      "source": [
        "##### <font color=\"green\">Challenge 2</font>"
      ]
    },
    {
      "cell_type": "code",
      "metadata": {
        "id": "gUZE2lrcIhXi"
      },
      "source": [
        "# Challenge 2\n",
        "# ---\n",
        "# Question: Muplitiply a and b variables\n",
        "# ---\n",
        "#\n",
        "OUR CODE GOES HERE"
      ],
      "execution_count": null,
      "outputs": []
    },
    {
      "cell_type": "markdown",
      "metadata": {
        "id": "GjfFmzfjIfZO"
      },
      "source": [
        "##### <font color=\"green\">Challenge 3</font>"
      ]
    },
    {
      "cell_type": "code",
      "metadata": {
        "id": "8KDbHHs2IhuL"
      },
      "source": [
        "# Challenge 3\n",
        "# ---\n",
        "# Question: Using the decrement operator to perform a = a - b\n",
        "# ---\n",
        "#\n",
        "OUR CODE GOES HERE"
      ],
      "execution_count": null,
      "outputs": []
    },
    {
      "cell_type": "markdown",
      "metadata": {
        "id": "dqhVm_8kN2tl"
      },
      "source": [
        "# 3. Data Types"
      ]
    },
    {
      "cell_type": "code",
      "metadata": {
        "id": "c-DhIA41tj20",
        "colab": {
          "base_uri": "https://localhost:8080/",
          "height": 34
        },
        "outputId": "9f12a30e-ec5e-44c5-dbd8-a4a3934441aa"
      },
      "source": [
        "country = \"Kenya\"\n",
        "print(country)"
      ],
      "execution_count": null,
      "outputs": [
        {
          "output_type": "stream",
          "text": [
            "Kenya\n"
          ],
          "name": "stdout"
        }
      ]
    },
    {
      "cell_type": "code",
      "metadata": {
        "id": "SPkCvEoet3nj",
        "colab": {
          "base_uri": "https://localhost:8080/",
          "height": 34
        },
        "outputId": "cee38f15-7d1d-458e-97fd-c26f96b91a3d"
      },
      "source": [
        "type(country)"
      ],
      "execution_count": null,
      "outputs": [
        {
          "output_type": "execute_result",
          "data": {
            "text/plain": [
              "str"
            ]
          },
          "metadata": {
            "tags": []
          },
          "execution_count": 50
        }
      ]
    },
    {
      "cell_type": "code",
      "metadata": {
        "id": "BOLsYNCluF-X",
        "colab": {
          "base_uri": "https://localhost:8080/",
          "height": 51
        },
        "outputId": "132c381b-488c-4d10-9440-4289a8c0cb41"
      },
      "source": [
        "contact = 53\n",
        "print(contact)\n",
        "type(contact)"
      ],
      "execution_count": null,
      "outputs": [
        {
          "output_type": "stream",
          "text": [
            "53\n"
          ],
          "name": "stdout"
        },
        {
          "output_type": "execute_result",
          "data": {
            "text/plain": [
              "int"
            ]
          },
          "metadata": {
            "tags": []
          },
          "execution_count": 51
        }
      ]
    },
    {
      "cell_type": "markdown",
      "metadata": {
        "id": "VtTVm3cvN_lP"
      },
      "source": [
        "#### <font color=\"blue\">Examples</font>"
      ]
    },
    {
      "cell_type": "markdown",
      "metadata": {
        "id": "qIxhQwTHOIjm"
      },
      "source": [
        "##### <font color=\"blue\">Example 1"
      ]
    },
    {
      "cell_type": "code",
      "metadata": {
        "id": "n7APi3z1NtN0",
        "cellView": "form",
        "colab": {
          "base_uri": "https://localhost:8080/",
          "height": 68
        },
        "outputId": "5097d655-ec01-4209-dba3-008226368e4f"
      },
      "source": [
        "#@title Default title text\n",
        "# Example 1\n",
        "# ---\n",
        "# Dynamically-inferred types\n",
        "# ---\n",
        "#\n",
        "x = 20\n",
        "print(type(x))\n",
        "x = '20'\n",
        "print(type(x))\n",
        "x = 20.0\n",
        "print(type(x))"
      ],
      "execution_count": null,
      "outputs": [
        {
          "output_type": "stream",
          "text": [
            "<class 'int'>\n",
            "<class 'str'>\n",
            "<class 'float'>\n"
          ],
          "name": "stdout"
        }
      ]
    },
    {
      "cell_type": "markdown",
      "metadata": {
        "id": "JdKpybEFOJOM"
      },
      "source": [
        "##### <font color=\"blue\">Example 2"
      ]
    },
    {
      "cell_type": "code",
      "metadata": {
        "id": "2Al_wNeZOE7t",
        "colab": {
          "base_uri": "https://localhost:8080/",
          "height": 34
        },
        "outputId": "4158bb92-f848-4ae3-ea92-8838ae208388"
      },
      "source": [
        "# Example 2\n",
        "# ---\n",
        "# Manual type-conversion (string to int)\n",
        "# ---\n",
        "#\n",
        "x = 20\n",
        "y = '5'\n",
        "\n",
        "\n",
        "\n",
        "\n",
        "print(x + int(y))"
      ],
      "execution_count": null,
      "outputs": [
        {
          "output_type": "stream",
          "text": [
            "25\n"
          ],
          "name": "stdout"
        }
      ]
    },
    {
      "cell_type": "code",
      "metadata": {
        "id": "yc8gC-UrvqSX",
        "colab": {
          "base_uri": "https://localhost:8080/",
          "height": 35
        },
        "outputId": "c270a3c2-4585-48f7-d33d-dfac9b4c4273"
      },
      "source": [
        "name = \"kim\"\n",
        "second_name = \"timmy\"\n",
        "\n",
        "name + \" \" + second_name"
      ],
      "execution_count": null,
      "outputs": [
        {
          "output_type": "execute_result",
          "data": {
            "application/vnd.google.colaboratory.intrinsic": {
              "type": "string"
            },
            "text/plain": [
              "'kim timmy'"
            ]
          },
          "metadata": {
            "tags": []
          },
          "execution_count": 60
        }
      ]
    },
    {
      "cell_type": "markdown",
      "metadata": {
        "id": "XJoETlR_OKHt"
      },
      "source": [
        "##### <font color=\"blue\">Example 3"
      ]
    },
    {
      "cell_type": "code",
      "metadata": {
        "id": "CmPAy-efOEx-",
        "colab": {
          "base_uri": "https://localhost:8080/",
          "height": 68
        },
        "outputId": "819facff-f1cd-4097-b01d-2a87f94d8e12"
      },
      "source": [
        "# Example 3\n",
        "# ---\n",
        "# Automatic type-conversion (int to float)\n",
        "# ---\n",
        "#\n",
        "x = 20\n",
        "print(type(x))\n",
        "x += 5.0\n",
        "print(x), type(x)"
      ],
      "execution_count": null,
      "outputs": [
        {
          "output_type": "stream",
          "text": [
            "<class 'int'>\n",
            "25.0\n"
          ],
          "name": "stdout"
        },
        {
          "output_type": "execute_result",
          "data": {
            "text/plain": [
              "(None, float)"
            ]
          },
          "metadata": {
            "tags": []
          },
          "execution_count": 61
        }
      ]
    },
    {
      "cell_type": "markdown",
      "metadata": {
        "id": "8w3U0HVEOccy"
      },
      "source": [
        "##### <font color=\"blue\">Example 4"
      ]
    },
    {
      "cell_type": "code",
      "metadata": {
        "id": "o_qQW55lOeY5",
        "colab": {
          "base_uri": "https://localhost:8080/",
          "height": 51
        },
        "outputId": "6ace4067-9d20-48a6-9ec3-9d5861940aaf"
      },
      "source": [
        "# Example 4\n",
        "# ---\n",
        "# Dividing Integers\n",
        "# ---\n",
        "#\n",
        "a = 20\n",
        "b = 5\n",
        "print(a/b)\n",
        "print(b/a)"
      ],
      "execution_count": null,
      "outputs": [
        {
          "output_type": "stream",
          "text": [
            "4.0\n",
            "0.25\n"
          ],
          "name": "stdout"
        }
      ]
    },
    {
      "cell_type": "markdown",
      "metadata": {
        "id": "hDZ9eDtmOgLi"
      },
      "source": [
        "##### <font color=\"blue\">Example 5"
      ]
    },
    {
      "cell_type": "code",
      "metadata": {
        "id": "RqtHFRB1OkU-",
        "colab": {
          "base_uri": "https://localhost:8080/",
          "height": 34
        },
        "outputId": "64f5a60b-ef50-4cfc-dee7-ebd2e54140b6"
      },
      "source": [
        "# Example 5\n",
        "# ---\n",
        "# Forcing float division\n",
        "# ---\n",
        "#\n",
        "print(b/float('5'))\n",
        "# How can you correct this?"
      ],
      "execution_count": null,
      "outputs": [
        {
          "output_type": "stream",
          "text": [
            "1.0\n"
          ],
          "name": "stdout"
        }
      ]
    },
    {
      "cell_type": "markdown",
      "metadata": {
        "id": "SxIaU06sOuYQ"
      },
      "source": [
        "##### <font color=\"blue\">Example 6"
      ]
    },
    {
      "cell_type": "code",
      "metadata": {
        "id": "Ho7QuNWqOvNs",
        "colab": {
          "base_uri": "https://localhost:8080/",
          "height": 34
        },
        "outputId": "13276c8e-05f5-4655-bf5b-393484cde4c5"
      },
      "source": [
        "# Examaple 6\n",
        "# ---\n",
        "# String \"arithmetic\" (actually concatenation)\n",
        "# ---\n",
        "a = 'John '\n",
        "b = 'Doe'\n",
        "print(a + b)"
      ],
      "execution_count": null,
      "outputs": [
        {
          "output_type": "stream",
          "text": [
            "John Doe\n"
          ],
          "name": "stdout"
        }
      ]
    },
    {
      "cell_type": "markdown",
      "metadata": {
        "id": "GuR57OHgOBnM"
      },
      "source": [
        "#### <font color=\"green\">Challenges</font>"
      ]
    },
    {
      "cell_type": "markdown",
      "metadata": {
        "id": "eaq4UrFLONmb"
      },
      "source": [
        "##### <font color=\"green\">Challenge 1</font>"
      ]
    },
    {
      "cell_type": "code",
      "metadata": {
        "id": "sXCvJSB1OD8w"
      },
      "source": [
        "# Challenge 1\n",
        "# ---\n",
        "# Question: Concatenate and print your full names.\n",
        "# ---\n",
        "#\n",
        "OUR CODE GOES HERE\n"
      ],
      "execution_count": null,
      "outputs": []
    },
    {
      "cell_type": "markdown",
      "metadata": {
        "id": "bSurXHq_OOjc"
      },
      "source": [
        "##### <font color=\"green\">Challenge 2</font>"
      ]
    },
    {
      "cell_type": "code",
      "metadata": {
        "id": "fQjDSfP1OEPH"
      },
      "source": [
        "# Challenge 2\n",
        "# ---\n",
        "# Question: Run and correct the following code.\n",
        "# ---\n",
        "#\n",
        "x = 10\n",
        "y = '5'\n",
        "print x + y"
      ],
      "execution_count": null,
      "outputs": []
    },
    {
      "cell_type": "markdown",
      "metadata": {
        "id": "hnyRRASVOPq4"
      },
      "source": [
        "##### <font color=\"green\">Challenge 3</font>"
      ]
    },
    {
      "cell_type": "code",
      "metadata": {
        "id": "7qUmDv5NOFl0"
      },
      "source": [
        "# Challenge 3\n",
        "# ---\n",
        "# Question: Perform integer division of 199 and 3 with the result being a float.\n",
        "# ---\n",
        "#\n",
        "OUR CODE GOES HERE"
      ],
      "execution_count": null,
      "outputs": []
    },
    {
      "cell_type": "markdown",
      "metadata": {
        "id": "okwTjEZ_PCiN"
      },
      "source": [
        "##### <font color=\"green\">Challenge 4</font>"
      ]
    },
    {
      "cell_type": "code",
      "metadata": {
        "id": "YThUHgEzPEfP"
      },
      "source": [
        "# Challenge 4\n",
        "# ---\n",
        "# Question: Concatenate and print your postal address with the City and Country.\n",
        "# ---\n",
        "#\n",
        "OUR CODE GOES HERE"
      ],
      "execution_count": null,
      "outputs": []
    },
    {
      "cell_type": "markdown",
      "metadata": {
        "id": "80kHsk0gQiX5"
      },
      "source": [
        "# 4. Lists"
      ]
    },
    {
      "cell_type": "markdown",
      "metadata": {
        "id": "r6CjXb92QsKs"
      },
      "source": [
        "#### <font color=\"blue\">Examples</font>"
      ]
    },
    {
      "cell_type": "markdown",
      "metadata": {
        "id": "_We_Aif3Q_n5"
      },
      "source": [
        "##### <font color=\"blue\">Example 1"
      ]
    },
    {
      "cell_type": "code",
      "metadata": {
        "id": "2JcpAVbvQd1w",
        "colab": {
          "base_uri": "https://localhost:8080/",
          "height": 34
        },
        "outputId": "84fb07ec-4ee6-4795-b248-d56cec50df16"
      },
      "source": [
        "# Example 1\n",
        "# ---\n",
        "# Creating a restaurant list\n",
        "# ---\n",
        "#\n",
        "\n",
        "# Defining our list\n",
        "restaurants = [\"cj's\", \"Java\", \"Nyama Mama\", \"Italian\", \"Swahili\", \"Khosa\"]\n",
        "\n",
        "# Printing our result\n",
        "print(restaurants)"
      ],
      "execution_count": null,
      "outputs": [
        {
          "output_type": "stream",
          "text": [
            "[\"cj's\", 'Java', 'Nyama Mama', 'Italian', 'Swahili', 'Khosa']\n"
          ],
          "name": "stdout"
        }
      ]
    },
    {
      "cell_type": "code",
      "metadata": {
        "id": "KBmhfWZXycwX",
        "colab": {
          "base_uri": "https://localhost:8080/",
          "height": 35
        },
        "outputId": "2fe137ca-4bb9-429f-fd1c-3df32216a09b"
      },
      "source": [
        "restaurants[0]"
      ],
      "execution_count": null,
      "outputs": [
        {
          "output_type": "execute_result",
          "data": {
            "application/vnd.google.colaboratory.intrinsic": {
              "type": "string"
            },
            "text/plain": [
              "\"cj's\""
            ]
          },
          "metadata": {
            "tags": []
          },
          "execution_count": 68
        }
      ]
    },
    {
      "cell_type": "code",
      "metadata": {
        "id": "D6c_xfetx9AC",
        "colab": {
          "base_uri": "https://localhost:8080/",
          "height": 51
        },
        "outputId": "2c7d170d-919f-4f65-9df4-652bf2be6bf1"
      },
      "source": [
        "namelist = [\"john\", \"peter\" , \"Grace\"]\n",
        "print(namelist)\n",
        "type(namelist)"
      ],
      "execution_count": null,
      "outputs": [
        {
          "output_type": "stream",
          "text": [
            "['john', 'peter', 'Grace']\n"
          ],
          "name": "stdout"
        },
        {
          "output_type": "execute_result",
          "data": {
            "text/plain": [
              "list"
            ]
          },
          "metadata": {
            "tags": []
          },
          "execution_count": 66
        }
      ]
    },
    {
      "cell_type": "code",
      "metadata": {
        "id": "ljyF92Tuyo5Y",
        "colab": {
          "base_uri": "https://localhost:8080/",
          "height": 34
        },
        "outputId": "f524adac-fef0-4573-f7e8-a90b670e2863"
      },
      "source": [
        "print(namelist)"
      ],
      "execution_count": null,
      "outputs": [
        {
          "output_type": "stream",
          "text": [
            "['john', 'peter', 'Grace']\n"
          ],
          "name": "stdout"
        }
      ]
    },
    {
      "cell_type": "code",
      "metadata": {
        "id": "EdbhHy6aypFT",
        "colab": {
          "base_uri": "https://localhost:8080/",
          "height": 34
        },
        "outputId": "f712b74d-e8c1-4ab3-aa99-900fe01a619d"
      },
      "source": [
        "namelist.append(\"Kimani\")\n",
        "print(namelist)"
      ],
      "execution_count": null,
      "outputs": [
        {
          "output_type": "stream",
          "text": [
            "['john', 'peter', 'Grace', 'Kimani']\n"
          ],
          "name": "stdout"
        }
      ]
    },
    {
      "cell_type": "code",
      "metadata": {
        "id": "gpxMVXnEzH_E",
        "colab": {
          "base_uri": "https://localhost:8080/",
          "height": 34
        },
        "outputId": "e70917c0-df3d-41f0-a4a8-15124b9f8dbf"
      },
      "source": [
        "namelist.append(\"Sam\")\n",
        "print(namelist)"
      ],
      "execution_count": null,
      "outputs": [
        {
          "output_type": "stream",
          "text": [
            "['john', 'peter', 'Grace', 'Kimani', 'Sam']\n"
          ],
          "name": "stdout"
        }
      ]
    },
    {
      "cell_type": "code",
      "metadata": {
        "id": "jari8c2r0WQQ",
        "colab": {
          "base_uri": "https://localhost:8080/",
          "height": 35
        },
        "outputId": "7cdc10b1-20f7-4850-842c-faa5b85cd825"
      },
      "source": [
        "namelist[0]"
      ],
      "execution_count": null,
      "outputs": [
        {
          "output_type": "execute_result",
          "data": {
            "application/vnd.google.colaboratory.intrinsic": {
              "type": "string"
            },
            "text/plain": [
              "'john'"
            ]
          },
          "metadata": {
            "tags": []
          },
          "execution_count": 74
        }
      ]
    },
    {
      "cell_type": "code",
      "metadata": {
        "id": "xhONkyfc0est",
        "colab": {
          "base_uri": "https://localhost:8080/",
          "height": 34
        },
        "outputId": "999632d3-b973-4d49-bdb3-c65b0bfc929f"
      },
      "source": [
        "namelist[0] = \"Tim\"\n",
        "print(namelist)"
      ],
      "execution_count": null,
      "outputs": [
        {
          "output_type": "stream",
          "text": [
            "['Tim', 'peter', 'Grace', 'Kimani', 'Sam']\n"
          ],
          "name": "stdout"
        }
      ]
    },
    {
      "cell_type": "code",
      "metadata": {
        "id": "x3i1BexG0skW",
        "colab": {
          "base_uri": "https://localhost:8080/",
          "height": 34
        },
        "outputId": "9dc224ef-2700-4e98-e3a3-5e817d2a1983"
      },
      "source": [
        "namelist[2] = \"Hannah\"\n",
        "print(namelist)"
      ],
      "execution_count": null,
      "outputs": [
        {
          "output_type": "stream",
          "text": [
            "['Tim', 'peter', 'Hannah', 'Kimani', 'Sam']\n"
          ],
          "name": "stdout"
        }
      ]
    },
    {
      "cell_type": "code",
      "metadata": {
        "id": "nVUKcWXe1LKh",
        "colab": {
          "base_uri": "https://localhost:8080/",
          "height": 34
        },
        "outputId": "e23b4ce6-326c-4573-9f18-4ed6e24a780f"
      },
      "source": [
        "namelist.remove(\"Sam\")\n",
        "print(namelist)"
      ],
      "execution_count": null,
      "outputs": [
        {
          "output_type": "stream",
          "text": [
            "['Tim', 'peter', 'Hannah', 'Kimani']\n"
          ],
          "name": "stdout"
        }
      ]
    },
    {
      "cell_type": "markdown",
      "metadata": {
        "id": "sVrIv1ucRAtY"
      },
      "source": [
        "##### <font color=\"blue\">Example 2"
      ]
    },
    {
      "cell_type": "code",
      "metadata": {
        "id": "aI4qEeumRCRr",
        "colab": {
          "base_uri": "https://localhost:8080/",
          "height": 34
        },
        "outputId": "c60a88c2-723e-4ed7-81c2-2cb98ce5a296"
      },
      "source": [
        "# Example 2\n",
        "# ---\n",
        "# Adding elements to a list\n",
        "# ---\n",
        "#\n",
        "\n",
        "# Adding the restaurant Viridian to our restaurants list\n",
        "restaurants.append(\"Viridian\")\n",
        "\n",
        "# Printing our result\n",
        "print(restaurants)"
      ],
      "execution_count": null,
      "outputs": [
        {
          "output_type": "stream",
          "text": [
            "[\"cj's\", 'Java', 'Nyama Mama', 'Italian', 'Swahili', 'Khosa', 'Viridian']\n"
          ],
          "name": "stdout"
        }
      ]
    },
    {
      "cell_type": "markdown",
      "metadata": {
        "id": "xaLN8jeYRDll"
      },
      "source": [
        "##### <font color=\"blue\">Example 3"
      ]
    },
    {
      "cell_type": "code",
      "metadata": {
        "id": "eqHEZSfYRE_X",
        "colab": {
          "base_uri": "https://localhost:8080/",
          "height": 34
        },
        "outputId": "00c6aa93-6ffd-4e1c-ab5c-3f1c4d982b0a"
      },
      "source": [
        "# Example 3\n",
        "# ---\n",
        "# Updating an element in a list\n",
        "# ---\n",
        "#\n",
        "restaurants[1] = \"Asmara\"\n",
        "\n",
        "# Printing our result\n",
        "print(restaurants)"
      ],
      "execution_count": null,
      "outputs": [
        {
          "output_type": "stream",
          "text": [
            "[\"cj's\", 'Asmara', 'Nyama Mama', 'Italian', 'Swahili', 'Khosa', 'Viridian']\n"
          ],
          "name": "stdout"
        }
      ]
    },
    {
      "cell_type": "markdown",
      "metadata": {
        "id": "dGKEWiBwTVFM"
      },
      "source": [
        "##### <font color=\"blue\">Example 4"
      ]
    },
    {
      "cell_type": "code",
      "metadata": {
        "id": "JTi3KkzITYk8"
      },
      "source": [
        "# Example 4\n",
        "# ---\n",
        "# Removing an element from a list\n",
        "# ---\n",
        "#\n",
        "restaurants.remove(\"Viridian\")\n",
        "\n",
        "# Printing our result\n",
        "print(restaurants)"
      ],
      "execution_count": null,
      "outputs": []
    },
    {
      "cell_type": "markdown",
      "metadata": {
        "id": "WnXWTn9WTaJs"
      },
      "source": [
        "##### <font color=\"blue\">Example 5"
      ]
    },
    {
      "cell_type": "code",
      "metadata": {
        "id": "3o416dxITbNq",
        "colab": {
          "base_uri": "https://localhost:8080/",
          "height": 34
        },
        "outputId": "e50cfc01-db31-42ec-c58d-1eec2a3d2e79"
      },
      "source": [
        "# Example 5\n",
        "# ---\n",
        "# Slicing a list\n",
        "# ---\n",
        "#\n",
        "\n",
        "# Getting the first two elements\n",
        "#print(restaurants[0:3])\n",
        "\n",
        "# Getting items from 2nd position to the end\n",
        "print(restaurants[2:])"
      ],
      "execution_count": null,
      "outputs": [
        {
          "output_type": "stream",
          "text": [
            "['Nyama Mama', 'Italian', 'Swahili', 'Khosa', 'Viridian']\n"
          ],
          "name": "stdout"
        }
      ]
    },
    {
      "cell_type": "code",
      "metadata": {
        "id": "7cYWwc6i2pi4",
        "colab": {
          "base_uri": "https://localhost:8080/",
          "height": 34
        },
        "outputId": "4ab9fb0f-4d94-4725-c7e7-46fe1e3be535"
      },
      "source": [
        "restaurants"
      ],
      "execution_count": null,
      "outputs": [
        {
          "output_type": "execute_result",
          "data": {
            "text/plain": [
              "[\"cj's\", 'Asmara', 'Nyama Mama', 'Italian', 'Swahili', 'Khosa', 'Viridian']"
            ]
          },
          "metadata": {
            "tags": []
          },
          "execution_count": 86
        }
      ]
    },
    {
      "cell_type": "markdown",
      "metadata": {
        "id": "96-FMInjQs5S"
      },
      "source": [
        "#### <font color=\"green\">Challenges</font>"
      ]
    },
    {
      "cell_type": "markdown",
      "metadata": {
        "id": "z9M2LwKAQvN_"
      },
      "source": [
        "##### <font color=\"green\">Challenge 1</font>"
      ]
    },
    {
      "cell_type": "code",
      "metadata": {
        "id": "gkiZKIQfQuzt"
      },
      "source": [
        "# Challenge 1\n",
        "# ---\n",
        "# Question: Create a list with 10 kenyan towns.\n",
        "# Towns: Lodwar, Thika, Kitale, Nyeri, Lamu, Naivasha, Nanyuki, Kakamega, Nyahururu, Voi\n",
        "# ---\n",
        "#\n",
        "OUR CODE GOES HERE"
      ],
      "execution_count": null,
      "outputs": []
    },
    {
      "cell_type": "markdown",
      "metadata": {
        "id": "fnRxw0qjQ1aZ"
      },
      "source": [
        "##### <font color=\"green\">Challenge 2</font>"
      ]
    },
    {
      "cell_type": "code",
      "metadata": {
        "id": "dCUhw0npQ4lD"
      },
      "source": [
        "# Challenge 2\n",
        "# ---\n",
        "# Question: Add the towm Homabay to the list\n",
        "# ---\n",
        "#\n",
        "OUR CODE GOES HERE"
      ],
      "execution_count": null,
      "outputs": []
    },
    {
      "cell_type": "markdown",
      "metadata": {
        "id": "HA99lKmhQ68W"
      },
      "source": [
        "##### <font color=\"green\">Challenge 3</font>"
      ]
    },
    {
      "cell_type": "code",
      "metadata": {
        "id": "Ci5HL0QDQ8o-"
      },
      "source": [
        "# Challenge 3\n",
        "# ---\n",
        "# Question: Update the city in the fifth position to Malindi\n",
        "# ---\n",
        "#\n",
        "OUR CODE GOES HERE"
      ],
      "execution_count": null,
      "outputs": []
    },
    {
      "cell_type": "markdown",
      "metadata": {
        "id": "z7mA-mghTmOc"
      },
      "source": [
        "##### <font color=\"green\">Challenge 4</font>"
      ]
    },
    {
      "cell_type": "code",
      "metadata": {
        "id": "d8oGQBGUTr3i"
      },
      "source": [
        "# Challenge 4\n",
        "# ---\n",
        "# Question: Get the city Homabay and Malindi from the kenyan towns list\n",
        "# ---\n",
        "#\n",
        "OUR CODE GOES HERE"
      ],
      "execution_count": null,
      "outputs": []
    },
    {
      "cell_type": "markdown",
      "metadata": {
        "id": "qcpLR3a_XPLd"
      },
      "source": [
        "# 5. Conditional (If) Statements"
      ]
    },
    {
      "cell_type": "markdown",
      "metadata": {
        "id": "EnaCUxpRXT0J"
      },
      "source": [
        "#### <font color=\"blue\">Examples</font>"
      ]
    },
    {
      "cell_type": "markdown",
      "metadata": {
        "id": "ZX5LhYDuXV2O"
      },
      "source": [
        "##### <font color=\"blue\">Example 1"
      ]
    },
    {
      "cell_type": "code",
      "metadata": {
        "id": "f9y3Gs_0XF9d",
        "colab": {
          "base_uri": "https://localhost:8080/",
          "height": 34
        },
        "outputId": "304e2d5e-be6f-4097-e1b2-d6513b4d0e34"
      },
      "source": [
        "# Example 1\n",
        "# ---\n",
        "# If keyword\n",
        "# ---\n",
        "#\n",
        "p = 500\n",
        "q = 100\n",
        "\n",
        "if q < p:\n",
        "  print(\"y is less than x\")"
      ],
      "execution_count": null,
      "outputs": [
        {
          "output_type": "stream",
          "text": [
            "y is less than x\n"
          ],
          "name": "stdout"
        }
      ]
    },
    {
      "cell_type": "markdown",
      "metadata": {
        "id": "7vliBrC5Xk65"
      },
      "source": [
        "##### <font color=\"blue\">Example 2"
      ]
    },
    {
      "cell_type": "code",
      "metadata": {
        "id": "HChmx56TXl3j"
      },
      "source": [
        "# Example 2\n",
        "# ---\n",
        "# Elif keyword\n",
        "# ---\n",
        "#\n",
        "r = 100\n",
        "s = 100\n",
        "\n",
        "p = 500\n",
        "q = 100\n",
        "\n",
        "if s < r:\n",
        "  if q < p:\n",
        "    print(\"y is less than x\")\n",
        "elif r == s:\n",
        "  print(\"r and s are equal\")"
      ],
      "execution_count": null,
      "outputs": []
    },
    {
      "cell_type": "markdown",
      "metadata": {
        "id": "0xG8q15EXnW_"
      },
      "source": [
        "##### <font color=\"blue\">Example 3"
      ]
    },
    {
      "cell_type": "code",
      "metadata": {
        "id": "jxac2rfpXpws"
      },
      "source": [
        "# Example 3\n",
        "# ---\n",
        "# Else keyword\n",
        "# ---\n",
        "#\n",
        "a = 150\n",
        "b = 50\n",
        "\n",
        "if b > a:\n",
        "  print(\"b is greater than a\")\n",
        "elif a == b:\n",
        "  print(\"a and b are equal\")\n",
        "else:\n",
        "  print(\"a is greater than b\")"
      ],
      "execution_count": null,
      "outputs": []
    },
    {
      "cell_type": "markdown",
      "metadata": {
        "id": "2gYk4uIZYFKf"
      },
      "source": [
        "##### <font color=\"blue\">Example 4"
      ]
    },
    {
      "cell_type": "code",
      "metadata": {
        "id": "cswVDkN0YGQV"
      },
      "source": [
        "# Example 4\n",
        "# ---\n",
        "# And keyword\n",
        "# ---\n",
        "#\n",
        "name = \"Mary\"\n",
        "age  = 30\n",
        "\n",
        "if name == \"Mary\" and age == 30:\n",
        "  print(\"My name is Mary, and I am 30 years old.\")"
      ],
      "execution_count": null,
      "outputs": []
    },
    {
      "cell_type": "markdown",
      "metadata": {
        "id": "7vPUGzblYGj1"
      },
      "source": [
        "##### <font color=\"blue\">Example 5"
      ]
    },
    {
      "cell_type": "code",
      "metadata": {
        "id": "ivMrjohRYHe6"
      },
      "source": [
        "# Example 5\n",
        "# ---\n",
        "# Or keyword\n",
        "# ---\n",
        "#\n",
        "a = 100\n",
        "b = 101\n",
        "c = 99\n",
        "\n",
        "if a > b or a > c:\n",
        "  print(\"At least one of the conditions is True\")"
      ],
      "execution_count": null,
      "outputs": []
    },
    {
      "cell_type": "markdown",
      "metadata": {
        "id": "IhBdAGNeXa9N"
      },
      "source": [
        "#### <font color=\"green\">Challenges</font>"
      ]
    },
    {
      "cell_type": "markdown",
      "metadata": {
        "id": "kBHUUpINXev4"
      },
      "source": [
        "##### <font color=\"green\">Challenge 1</font>"
      ]
    },
    {
      "cell_type": "code",
      "metadata": {
        "id": "fae-fxEZXfix"
      },
      "source": [
        "# Challenge 1\n",
        "# ---\n",
        "# Question: Find out if t is less than s\n",
        "# ---\n",
        "# OUR CODE BELOW\n",
        "#"
      ],
      "execution_count": null,
      "outputs": []
    },
    {
      "cell_type": "markdown",
      "metadata": {
        "id": "Xk2YcqtKXgiL"
      },
      "source": [
        "##### <font color=\"green\">Challenge 2</font>"
      ]
    },
    {
      "cell_type": "code",
      "metadata": {
        "id": "uTgQ2ZHZXh2k"
      },
      "source": [
        "# Challenge 2\n",
        "# ---\n",
        "# Question: Write a program that checks the value of vowel, i.e. a, e, i, o or u\n",
        "# then displays whether the entered letter is a vowel.\n",
        "# ---\n",
        "# OUR CODE BELOW\n",
        "#"
      ],
      "execution_count": null,
      "outputs": []
    },
    {
      "cell_type": "markdown",
      "metadata": {
        "id": "hdEWP1SNnFHp"
      },
      "source": [
        "# 6. Dictionaries"
      ]
    },
    {
      "cell_type": "markdown",
      "metadata": {
        "id": "_TGroESwnRos"
      },
      "source": [
        "#### <font color=\"blue\">Examples</font>"
      ]
    },
    {
      "cell_type": "markdown",
      "metadata": {
        "id": "TbJ6OFKqnUTy"
      },
      "source": [
        "##### <font color=\"blue\">Example 1"
      ]
    },
    {
      "cell_type": "code",
      "metadata": {
        "id": "sIEWsndxnBIx",
        "colab": {
          "base_uri": "https://localhost:8080/",
          "height": 34
        },
        "outputId": "0091d612-cba7-4319-ffeb-36d2a480c5b3"
      },
      "source": [
        "# Example 1\n",
        "# ---\n",
        "# Creating a dictionary\n",
        "# ---\n",
        "#\n",
        "\n",
        "vehicle =\t{\n",
        "  'brand': 'Toyota',\n",
        "  'model': 'Subaru',\n",
        "  'year': 2019\n",
        "}\n",
        "print(vehicle)"
      ],
      "execution_count": null,
      "outputs": [
        {
          "output_type": "stream",
          "text": [
            "{'brand': 'Toyota', 'model': 'Subaru', 'year': 2019}\n"
          ],
          "name": "stdout"
        }
      ]
    },
    {
      "cell_type": "markdown",
      "metadata": {
        "id": "HxuW_VVCnVgw"
      },
      "source": [
        "##### <font color=\"blue\">Example 2"
      ]
    },
    {
      "cell_type": "code",
      "metadata": {
        "id": "1Vmghb0onWoR"
      },
      "source": [
        "# Example 2\n",
        "# ---\n",
        "# Adding elements to a dictionary\n",
        "# ---\n",
        "#\n",
        "\n",
        "# Adding an element to your dictionary\n",
        "vehicle['engine'] = '1800cc'\n",
        "\n",
        "# Printing out our updated dictionary\n",
        "print(vehicle)"
      ],
      "execution_count": null,
      "outputs": []
    },
    {
      "cell_type": "markdown",
      "metadata": {
        "id": "8LarnuTTnalz"
      },
      "source": [
        "##### <font color=\"blue\">Example 3"
      ]
    },
    {
      "cell_type": "code",
      "metadata": {
        "id": "iAQKOoTJnd-D"
      },
      "source": [
        "# Example 3\n",
        "# ---\n",
        "# Updating elements in a dictionary\n",
        "# ---\n",
        "#\n",
        "\n",
        "# Updating an element to our dictionary\n",
        "vehicle['engine'] = '2400cc'\n",
        "\n",
        "# Printing out our updated dictionary\n",
        "print(vehicle)"
      ],
      "execution_count": null,
      "outputs": []
    },
    {
      "cell_type": "markdown",
      "metadata": {
        "id": "VSxz3OK9nb4P"
      },
      "source": [
        "##### <font color=\"blue\">Example 4"
      ]
    },
    {
      "cell_type": "code",
      "metadata": {
        "id": "9JidwoWunedW"
      },
      "source": [
        "# Example 4\n",
        "# ---\n",
        "# Accessing an element from a dictionary\n",
        "# ---\n",
        "#\n",
        "\n",
        "# Printing our vehicle's model\n",
        "#\n",
        "print(vehicle[\"model\"])\n",
        "\n",
        "# or we could use\n",
        "print(vehicle.get(\"model\"))"
      ],
      "execution_count": null,
      "outputs": []
    },
    {
      "cell_type": "markdown",
      "metadata": {
        "id": "_xf8ei3mnc3-"
      },
      "source": [
        "##### <font color=\"blue\">Example 5"
      ]
    },
    {
      "cell_type": "code",
      "metadata": {
        "id": "kBMhLSUvnfXb"
      },
      "source": [
        "# Example 5\n",
        "# ---\n",
        "# Removing an element from a dictionary\n",
        "# ---\n",
        "#\n",
        "\n",
        "# Removing model from the dictionary\n",
        "vehicle_without_model = vehicle.pop(\"model\")\n",
        "vehicle"
      ],
      "execution_count": null,
      "outputs": []
    },
    {
      "cell_type": "markdown",
      "metadata": {
        "id": "C4tY9xM-n6jP"
      },
      "source": [
        "##### <font color=\"blue\">Example 6"
      ]
    },
    {
      "cell_type": "code",
      "metadata": {
        "id": "l10tZKkqn791"
      },
      "source": [
        "# Example 6\n",
        "# ---\n",
        "# Checking if an element exists\n",
        "# ---\n",
        "#\n",
        "\n",
        "if \"brand\" in vehicle:\n",
        "  print(\"Yes, the keyword exists in the dictionary\")\n",
        "else:\n",
        "  print('No, the keyword does not exist in the dictionary')\n"
      ],
      "execution_count": null,
      "outputs": []
    },
    {
      "cell_type": "markdown",
      "metadata": {
        "id": "qxG8RHFnniJT"
      },
      "source": [
        "#### <font color=\"green\">Challenges</font>"
      ]
    },
    {
      "cell_type": "markdown",
      "metadata": {
        "id": "dQlkT13Gnjid"
      },
      "source": [
        "##### <font color=\"green\">Challenge 1</font>"
      ]
    },
    {
      "cell_type": "code",
      "metadata": {
        "id": "omUwx9wnnlcl"
      },
      "source": [
        "# Challenge 1\n",
        "# ---\n",
        "# Create a dictionary named television then populate it with\n",
        "# any values for screen_size, screen_type, manufacturer\n",
        "# ---\n",
        "#\n",
        "OUR CODE GOES HERE"
      ],
      "execution_count": null,
      "outputs": []
    },
    {
      "cell_type": "markdown",
      "metadata": {
        "id": "6Pdl8p-QnmN1"
      },
      "source": [
        "##### <font color=\"green\">Challenge 2</font>"
      ]
    },
    {
      "cell_type": "code",
      "metadata": {
        "id": "szya8o5cnnDr"
      },
      "source": [
        "# Challenge 2\n",
        "# ---\n",
        "# Add the element date_of_manufacture with value 2018 to the\n",
        "# television dictionary\n",
        "# ---\n",
        "#\n",
        "OUR CODE GOES HERE"
      ],
      "execution_count": null,
      "outputs": []
    },
    {
      "cell_type": "markdown",
      "metadata": {
        "id": "93yfMyQWnovw"
      },
      "source": [
        "##### <font color=\"green\">Challenge 3</font>"
      ]
    },
    {
      "cell_type": "code",
      "metadata": {
        "id": "nRK7lwI-npy6"
      },
      "source": [
        "# Challenge 3\n",
        "# Update the element date_of_manufacture with value 2019 in the\n",
        "# television dictionary\n",
        "# ---\n",
        "#\n",
        "OUR CODE GOES HERE"
      ],
      "execution_count": null,
      "outputs": []
    },
    {
      "cell_type": "markdown",
      "metadata": {
        "id": "6T7Z10zUnquf"
      },
      "source": [
        "##### <font color=\"green\">Challenge 4</font>"
      ]
    },
    {
      "cell_type": "code",
      "metadata": {
        "id": "QijrUFV6nruq"
      },
      "source": [
        "# Challenge 4\n",
        "# Access the screen size in the television dictionary above\n",
        "# ---\n",
        "#\n",
        "OUR CODE GOES HERE"
      ],
      "execution_count": null,
      "outputs": []
    },
    {
      "cell_type": "markdown",
      "metadata": {
        "id": "l4aSf1SQnsIc"
      },
      "source": [
        "##### <font color=\"green\">Challenge 5</font>"
      ]
    },
    {
      "cell_type": "code",
      "metadata": {
        "id": "HE2tBOlpntTl"
      },
      "source": [
        "# Challenge 45\n",
        "# Check whether designer is a key in the television dictionary\n",
        "# ---\n",
        "#\n",
        "OUR CODE GOES HERE"
      ],
      "execution_count": null,
      "outputs": []
    },
    {
      "cell_type": "markdown",
      "metadata": {
        "id": "wW6zZPzHpPkw"
      },
      "source": [
        "# 7. For Loops"
      ]
    },
    {
      "cell_type": "markdown",
      "metadata": {
        "id": "Tj7-43EzpXKP"
      },
      "source": [
        "#### <font color=\"blue\">Examples</font>"
      ]
    },
    {
      "cell_type": "markdown",
      "metadata": {
        "id": "9CbPFikcpb65"
      },
      "source": [
        "##### <font color=\"blue\">Example 1"
      ]
    },
    {
      "cell_type": "code",
      "metadata": {
        "id": "A6ghbClnpKgH"
      },
      "source": [
        "# Example 1\n",
        "# ---\n",
        "# Looping/iterating through a string\n",
        "# ---\n",
        "#\n",
        "for y in \"Karuna Karuna\":\n",
        "  print(y)"
      ],
      "execution_count": null,
      "outputs": []
    },
    {
      "cell_type": "markdown",
      "metadata": {
        "id": "8TToTfDxpcsC"
      },
      "source": [
        "##### <font color=\"blue\">Example 2"
      ]
    },
    {
      "cell_type": "code",
      "metadata": {
        "id": "KQjf-iXjpdoW"
      },
      "source": [
        "# Example 2\n",
        "# ---\n",
        "# Using a break statement to stop the loop before it continues its iteration\n",
        "# ---\n",
        "#\n",
        "\n",
        "# Let's print out the restaurants list that we had created earlier on\n",
        "restaurants = [\"cj's\", \"Java\", \"Nyama Mama\", \"Italian\", \"Viridian\", \"Khosa\"]\n",
        "\n",
        "# Looping and using a break statement\n",
        "for x in restaurants:\n",
        "  print(x)\n",
        "  if x == \"Viridian\":\n",
        "    break"
      ],
      "execution_count": null,
      "outputs": []
    },
    {
      "cell_type": "markdown",
      "metadata": {
        "id": "O0n2jmlupeUe"
      },
      "source": [
        "##### <font color=\"blue\">Example 3"
      ]
    },
    {
      "cell_type": "code",
      "metadata": {
        "id": "cwraj51ZpfqH"
      },
      "source": [
        "# Example 3\n",
        "# ---\n",
        "# Using a continue statement to stop the current iteration of the loop\n",
        "# and continue the next section of our code\n",
        "# ---\n",
        "#\n",
        "\n",
        "mobile_phone = [\"iphone 4\", \"iphone 5\", \"iphone 6\", \"iphone 7\", \"iphone 8\", \"iphone x\", \"iphone xs\"]\n",
        "\n",
        "for x in mobile_phone:\n",
        "    if x == 'iphone 6' or x == 'iphone 8':\n",
        "         continue\n",
        "    print ('Checked Phone :', x)"
      ],
      "execution_count": null,
      "outputs": []
    },
    {
      "cell_type": "markdown",
      "metadata": {
        "id": "uBJfTBcDpooj"
      },
      "source": [
        "#### <font color=\"green\">Challenges</font>"
      ]
    },
    {
      "cell_type": "markdown",
      "metadata": {
        "id": "xVpVBXPkprnS"
      },
      "source": [
        "##### <font color=\"green\">Challenge 1</font>"
      ]
    },
    {
      "cell_type": "code",
      "metadata": {
        "id": "HFGk4EqIppVV"
      },
      "source": [
        "# Challenge 1\n",
        "# ---\n",
        "# Question: Iterate through the string \"My land is Kenya\"\n",
        "# ---\n",
        "#\n",
        "OUR CODE GOES HERE"
      ],
      "execution_count": null,
      "outputs": []
    },
    {
      "cell_type": "markdown",
      "metadata": {
        "id": "05xi5W5kpsYM"
      },
      "source": [
        "##### <font color=\"green\">Challenge 2</font>"
      ]
    },
    {
      "cell_type": "code",
      "metadata": {
        "id": "E3VR4EOWptKc"
      },
      "source": [
        "# Challenge 2\n",
        "# ---\n",
        "# Question: Iterate through the given footballers list and stop at \"Mariga\"\n",
        "# ---\n",
        "#\n",
        "\n",
        "footballers = [\"Oliech\", \"Kahata\", \"Yohana\", \"Matasi\", \"Mariga\", \"Wanyama\"]\n",
        "\n",
        "OUR CODE GOES HERE"
      ],
      "execution_count": null,
      "outputs": []
    },
    {
      "cell_type": "markdown",
      "metadata": {
        "id": "wtPFkTZCptbR"
      },
      "source": [
        "##### <font color=\"green\">Challenge 3</font>"
      ]
    },
    {
      "cell_type": "code",
      "metadata": {
        "id": "FyFcSQtNpt-x",
        "colab": {
          "base_uri": "https://localhost:8080/",
          "height": 70
        },
        "outputId": "3aeddb23-2663-4f16-8db9-856c078ac1b2"
      },
      "source": [
        "# Challenge 3\n",
        "# ---\n",
        "# Let's print out a word if it doesn't have the letter \"e\" in the given cakes below\n",
        "# ---\n",
        "# Hint:\n",
        "#\n",
        "\n",
        "cakes = [\"Blueberry\", \"Raspberry\", \"Vanilla\", \"Chocolate\", \"Marble\", \"Apple\", \"Banana\", \"Passion\"]\n",
        "\n",
        "#OUR CODE GOES HERE\n",
        "\n",
        "\n",
        "\n",
        "for cake in cakes:\n",
        "  if \"e\" not in cake:\n",
        "    print(cake)"
      ],
      "execution_count": null,
      "outputs": [
        {
          "output_type": "stream",
          "text": [
            "Vanilla\n",
            "Banana\n",
            "Passion\n"
          ],
          "name": "stdout"
        }
      ]
    },
    {
      "cell_type": "markdown",
      "metadata": {
        "id": "lY-G45bwqiq8"
      },
      "source": [
        "# 8. While Loops"
      ]
    },
    {
      "cell_type": "markdown",
      "metadata": {
        "id": "pZnqvIFlqrcF"
      },
      "source": [
        "#### <font color=\"blue\">Examples</font>"
      ]
    },
    {
      "cell_type": "markdown",
      "metadata": {
        "id": "iO82jGS5qwik"
      },
      "source": [
        "##### <font color=\"blue\">Example 1"
      ]
    },
    {
      "cell_type": "code",
      "metadata": {
        "id": "Miw-1LdYqfoZ"
      },
      "source": [
        "# Example 1\n",
        "# ---\n",
        "# Iterating over a list using the while loop\n",
        "# ---\n",
        "\n",
        "# First defining our list\n",
        "teachers = ['Mukami', 'Kamau', 'Oliech', 'Otieno', 'Ewar', 'Nyambura', 'Lucas', 'Dennis', 'Hellen']\n",
        "\n",
        "# Our while loop will start counting from 0,\n",
        "i = 0\n",
        "\n",
        "# determining the no. of elements in our teachers list\n",
        "no_of_teachers = len(teachers)\n",
        "\n",
        "# Performing our iteration, starting from 0 until i is not less than the no_of_teachers\n",
        "while i < no_of_teachers:\n",
        "\n",
        "  # print out the element in the list as per the index\n",
        "  print(teachers[i])\n",
        "\n",
        "  # incrementing our i by 1\n",
        "  i += 1"
      ],
      "execution_count": null,
      "outputs": []
    },
    {
      "cell_type": "markdown",
      "metadata": {
        "id": "iU4HK7hrqiMO"
      },
      "source": [
        "##### <font color=\"blue\">Example 2"
      ]
    },
    {
      "cell_type": "code",
      "metadata": {
        "id": "OMGyf-1hqyQS"
      },
      "source": [
        "# Example 2\n",
        "# ---\n",
        "# Using a break statement while iterating over our teachers list\n",
        "# ---\n",
        "#\n",
        "\n",
        "# Our while loop will start counting from 0,\n",
        "i = 0\n",
        "\n",
        "# determining the no. of elements in our teachers list\n",
        "no_of_teachers = len(teachers)\n",
        "\n",
        "# defining our word variable\n",
        "word = \"Emma\"\n",
        "\n",
        "\n",
        "# Performing our iteration, starting from 0 until i is not less than the no_of_teachers\n",
        "while i < no_of_teachers:\n",
        "\n",
        "  # print out the element in the list as per the index\n",
        "  if word == teachers[i]:\n",
        "\n",
        "      print(\"Find the element at position:\",i)\n",
        "\n",
        "      break\n",
        "\n",
        "  # incrementing our i by 1\n",
        "  i += 1"
      ],
      "execution_count": null,
      "outputs": []
    },
    {
      "cell_type": "markdown",
      "metadata": {
        "id": "UoUvopuiqz1A"
      },
      "source": [
        "##### <font color=\"blue\">Example 3"
      ]
    },
    {
      "cell_type": "code",
      "metadata": {
        "id": "OpzRASVXq07R"
      },
      "source": [
        "# Example 3\n",
        "# ---\n",
        "# Using the continue statement forces the next iteration of the loop to take place\n",
        "# ---\n",
        "#\n",
        "\n",
        "# Our while loop will start counting from 0,\n",
        "i = 0\n",
        "\n",
        "# determining the no. of elements in our teachers list\n",
        "no_of_teachers = len(teachers)\n",
        "\n",
        "# defining our word variable\n",
        "word = \"Emma\"\n",
        "\n",
        "\n",
        "# Performing our iteration, starting from 0 until i is not less than the no_of_teachers\n",
        "while i < no_of_teachers:\n",
        "\n",
        "    print(\"Checking element:\", i)\n",
        "\n",
        "    if word != teachers[i]:\n",
        "\n",
        "        i = i + 1\n",
        "\n",
        "        continue\n",
        "\n",
        "    print(\"Find the element at \", i)\n",
        "\n",
        "    # stop the loop\n",
        "    i = no_of_teachers"
      ],
      "execution_count": null,
      "outputs": []
    },
    {
      "cell_type": "markdown",
      "metadata": {
        "id": "_BlOlAaNq4Aj"
      },
      "source": [
        "#### <font color=\"green\">Challenges</font>"
      ]
    },
    {
      "cell_type": "markdown",
      "metadata": {
        "id": "yDuSe7aAq56q"
      },
      "source": [
        "##### <font color=\"green\">Challenge 1</font>"
      ]
    },
    {
      "cell_type": "code",
      "metadata": {
        "id": "lDRkMkFIq7n5"
      },
      "source": [
        "# Challenge 1\n",
        "# ---\n",
        "# Question: Iterate through the following list and stop at 8\n",
        "# ---\n",
        "#\n",
        "\n",
        "a = [1, 2, 4, 12, 1, 2, 3, (5, 6), ['Hello', 'From', 'The'], 8, 'Other', 'Side']\n",
        "\n",
        "OUR CODE GOES HERE"
      ],
      "execution_count": null,
      "outputs": []
    },
    {
      "cell_type": "markdown",
      "metadata": {
        "id": "m4u98nWIq76h"
      },
      "source": [
        "##### <font color=\"green\">Challenge 2</font>"
      ]
    },
    {
      "cell_type": "code",
      "metadata": {
        "id": "sZwMk2rxq8wP"
      },
      "source": [
        "# Challenge 2\n",
        "# ---\n",
        "# Question: Create a while loop that prints out the following list\n",
        "# skipping the string 'Other' during iteration.\n",
        "# ---\n",
        "#\n",
        "\n",
        "a = [1, 2, 4, 12, 1, 2, 3, (5, 6), ['Hello', 'From', 'The'], 8, 'Other', 'Side']\n",
        "\n",
        "OUR CODE GOES HERE"
      ],
      "execution_count": null,
      "outputs": []
    },
    {
      "cell_type": "markdown",
      "metadata": {
        "id": "rYrnAuYBryYC"
      },
      "source": [
        "# 9. Functions"
      ]
    },
    {
      "cell_type": "markdown",
      "metadata": {
        "id": "WOi0gv2Dr83t"
      },
      "source": [
        "#### <font color=\"blue\">Examples</font>"
      ]
    },
    {
      "cell_type": "markdown",
      "metadata": {
        "id": "GgSYzCUYsCWG"
      },
      "source": [
        "##### <font color=\"blue\">Example 1"
      ]
    },
    {
      "cell_type": "code",
      "metadata": {
        "id": "0zJ1kn1BrwkV"
      },
      "source": [
        "# Example 1\n",
        "# ---\n",
        "# Let's use built-in functions\n",
        "# ---\n",
        "#\n",
        "\n",
        "# The max() function will return the item with the highest value as shown\n",
        "# in the given list\n",
        "x = max([23, 22, 55, 23, 44])\n",
        "print(x)\n",
        "\n",
        "# Using the max() function, we can return the item with the highest value alphabetically\n",
        "y = max([\"Susan\", \"Grace\", \"Simon\"])\n",
        "print(y)"
      ],
      "execution_count": null,
      "outputs": []
    },
    {
      "cell_type": "markdown",
      "metadata": {
        "id": "-bAG0iH2sDiV"
      },
      "source": [
        "##### <font color=\"blue\">Example 2"
      ]
    },
    {
      "cell_type": "code",
      "metadata": {
        "id": "0YQ7eSTvsEZP"
      },
      "source": [
        "# Example 2\n",
        "# ---\n",
        "# Let's create a function to find out which of two numbers is greater than the other\n",
        "# ---\n",
        "#\n",
        "\n",
        "# we define it by giving it the name max_of_two\n",
        "def max_of_two():\n",
        "\n",
        "  # we then define our variables that will contain the numbers to be manipulated\n",
        "  first_number  = 10\n",
        "  second_number = 5\n",
        "\n",
        "  # then we perform our operations i.e. in this case,\n",
        "  # if first_number is greater than second_number etc.\n",
        "  if first_number > second_number:\n",
        "\n",
        "      # the return keyword allows us to provide back the result/output of our function\n",
        "    return first_number\n",
        "\n",
        "    # the return key word allows us to provide back the result/output of our function\n",
        "  return second_number\n",
        "\n",
        "# Lastly, we do the most important step; which is to call the function that\n",
        "# we have just created above. Calling allows us to use the function.\n",
        "# We have also been calling our built-in functions from the previous section.\n",
        "#\n",
        "max_of_two()"
      ],
      "execution_count": null,
      "outputs": []
    },
    {
      "cell_type": "markdown",
      "metadata": {
        "id": "47gh_27esFHZ"
      },
      "source": [
        "##### <font color=\"blue\">Example 3"
      ]
    },
    {
      "cell_type": "code",
      "metadata": {
        "id": "a8odALGjsGJy"
      },
      "source": [
        "# Example 3\n",
        "# ---\n",
        "# Let's define our function by creating a\n",
        "# ---\n",
        "#\n",
        "\n",
        "def average_of_two_numbers(x, y):\n",
        "  average_of_two_numbers = (x + y)/2\n",
        "  return print(average_of_two_numbers)\n",
        "\n",
        "average_of_two_numbers(4, 5)"
      ],
      "execution_count": null,
      "outputs": []
    },
    {
      "cell_type": "markdown",
      "metadata": {
        "id": "m1FOyDx-r_C_"
      },
      "source": [
        "#### <font color=\"green\">Challenges</font>"
      ]
    },
    {
      "cell_type": "markdown",
      "metadata": {
        "id": "PgsptduxsKGg"
      },
      "source": [
        "##### <font color=\"green\">Challenge 1</font>"
      ]
    },
    {
      "cell_type": "code",
      "metadata": {
        "id": "t4PE4y_Vr_1Q"
      },
      "source": [
        "# Challenge 1\n",
        "# ---\n",
        "# Question: Determine the lowest value in the given array\n",
        "# ---\n",
        "#\n",
        "\n",
        "x = [23, 22, 55, 23, 44]\n",
        "\n",
        "OUR CODE GOES HERE"
      ],
      "execution_count": null,
      "outputs": []
    },
    {
      "cell_type": "markdown",
      "metadata": {
        "id": "88bM7tZ2sLI4"
      },
      "source": [
        "##### <font color=\"green\">Challenge 2</font>"
      ]
    },
    {
      "cell_type": "code",
      "metadata": {
        "id": "W7aQKJ96sL_F",
        "colab": {
          "base_uri": "https://localhost:8080/",
          "height": 133
        },
        "outputId": "edfea0fa-1381-4600-d446-b9f81cabc8ea"
      },
      "source": [
        "## Challenge 2\n",
        "# ---\n",
        "# Create function that takes in first_name, middle_name, and last_name\n",
        "# as parameters and returns the full name\n",
        "# ---\n",
        "#\n",
        "#OUR CODE GOES HERE"
      ],
      "execution_count": null,
      "outputs": [
        {
          "output_type": "error",
          "ename": "SyntaxError",
          "evalue": "ignored",
          "traceback": [
            "\u001b[0;36m  File \u001b[0;32m\"<ipython-input-1-9460e4df7921>\"\u001b[0;36m, line \u001b[0;32m7\u001b[0m\n\u001b[0;31m    OUR CODE GOES HERE\u001b[0m\n\u001b[0m           ^\u001b[0m\n\u001b[0;31mSyntaxError\u001b[0m\u001b[0;31m:\u001b[0m invalid syntax\n"
          ]
        }
      ]
    },
    {
      "cell_type": "markdown",
      "metadata": {
        "id": "E_kcos-EsMTo"
      },
      "source": [
        "##### <font color=\"green\">Challenge 3</font>"
      ]
    },
    {
      "cell_type": "code",
      "metadata": {
        "id": "G0RuVWaVsNPD"
      },
      "source": [
        "# Challenge 3\n",
        "# ---\n",
        "# Question: Create a python function that calculates the area of rectangle\n",
        "# when the value of the height and width is passed to the function.\n",
        "# ---\n",
        "#\n",
        "OUR CODE GOES HERE"
      ],
      "execution_count": null,
      "outputs": []
    },
    {
      "cell_type": "markdown",
      "metadata": {
        "id": "jpvE6cqosOFe"
      },
      "source": [
        "##### <font color=\"green\">Challenge 4</font>"
      ]
    },
    {
      "cell_type": "code",
      "metadata": {
        "id": "Zx5cUD33sO63"
      },
      "source": [
        "# Challenge 4\n",
        "# ---\n",
        "# Question: Uberite, a logistics app has a base fare of Ksh. 400.\n",
        "# The app charges Ksh. 30 for every 100 meters travelled.\n",
        "# Create a python function fare that takes the distance travelled\n",
        "# as a parameter and returns the charge.\n",
        "# ---\n",
        "#\n",
        "OUR CODE GOES HERE"
      ],
      "execution_count": null,
      "outputs": []
    },
    {
      "cell_type": "markdown",
      "metadata": {
        "id": "lVSo3Xu7s4K4"
      },
      "source": []
    }
  ]
}